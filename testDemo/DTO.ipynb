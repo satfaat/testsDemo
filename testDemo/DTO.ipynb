{
 "cells": [
  {
   "attachments": {},
   "cell_type": "markdown",
   "metadata": {},
   "source": [
    "api list\n",
    "    - https://jsonplaceholder.typicode.com/\n",
    "    - https://jsonplaceholder.typicode.com/guide/\n",
    "    - https://www.appsloveworld.com/free-online-sample-rest-api-url-for-testing\n",
    "    - https://sampleapis.com/api-list\n"
   ]
  },
  {
   "cell_type": "code",
   "execution_count": 1,
   "metadata": {},
   "outputs": [],
   "source": [
    "import pydantic"
   ]
  },
  {
   "cell_type": "code",
   "execution_count": 2,
   "metadata": {},
   "outputs": [],
   "source": [
    "class User(pydantic.BaseModel):\n",
    "    id: int\n",
    "    name = 'Jane Doe'"
   ]
  },
  {
   "cell_type": "code",
   "execution_count": 5,
   "metadata": {},
   "outputs": [
    {
     "data": {
      "text/plain": [
       "User(id=123, name='Jane Doe')"
      ]
     },
     "execution_count": 5,
     "metadata": {},
     "output_type": "execute_result"
    }
   ],
   "source": [
    "user = User(id='123')\n",
    "user"
   ]
  },
  {
   "cell_type": "code",
   "execution_count": 19,
   "metadata": {},
   "outputs": [],
   "source": [
    "assert user.name == 'Jane Doe'"
   ]
  },
  {
   "cell_type": "code",
   "execution_count": 17,
   "metadata": {},
   "outputs": [
    {
     "ename": "NameError",
     "evalue": "name 'user_x' is not defined",
     "output_type": "error",
     "traceback": [
      "\u001b[1;31m---------------------------------------------------------------------------\u001b[0m",
      "\u001b[1;31mValidationError\u001b[0m                           Traceback (most recent call last)",
      "Cell \u001b[1;32mIn[17], line 2\u001b[0m\n\u001b[0;32m      1\u001b[0m \u001b[39mtry\u001b[39;00m:\n\u001b[1;32m----> 2\u001b[0m     user_x \u001b[39m=\u001b[39m User(\u001b[39mid\u001b[39;49m\u001b[39m=\u001b[39;49m\u001b[39m'\u001b[39;49m\u001b[39m123.45\u001b[39;49m\u001b[39m'\u001b[39;49m)\n\u001b[0;32m      3\u001b[0m     \u001b[39massert\u001b[39;00m \u001b[39misinstance\u001b[39m(user_x\u001b[39m.\u001b[39mid, \u001b[39mint\u001b[39m)\n",
      "File \u001b[1;32mc:\\Users\\faat.sattarov\\Documents\\own\\dev\\env-jnb\\Lib\\site-packages\\pydantic\\main.py:341\u001b[0m, in \u001b[0;36mpydantic.main.BaseModel.__init__\u001b[1;34m()\u001b[0m\n",
      "\u001b[1;31mValidationError\u001b[0m: 1 validation error for User\nid\n  value is not a valid integer (type=type_error.integer)",
      "\nDuring handling of the above exception, another exception occurred:\n",
      "\u001b[1;31mNameError\u001b[0m                                 Traceback (most recent call last)",
      "Cell \u001b[1;32mIn[17], line 5\u001b[0m\n\u001b[0;32m      3\u001b[0m     \u001b[39massert\u001b[39;00m \u001b[39misinstance\u001b[39m(user_x\u001b[39m.\u001b[39mid, \u001b[39mint\u001b[39m)\n\u001b[0;32m      4\u001b[0m \u001b[39mexcept\u001b[39;00m:\n\u001b[1;32m----> 5\u001b[0m     \u001b[39massert\u001b[39;00m \u001b[39misinstance\u001b[39m(user_x\u001b[39m.\u001b[39mid, \u001b[39mint\u001b[39m)\n\u001b[0;32m      6\u001b[0m     \u001b[39mprint\u001b[39m(\u001b[39m\"\u001b[39m\u001b[39mNot an integer\u001b[39m\u001b[39m\"\u001b[39m)\n",
      "\u001b[1;31mNameError\u001b[0m: name 'user_x' is not defined"
     ]
    }
   ],
   "source": [
    "try:\n",
    "    user_x = User(id='123.45')\n",
    "    assert isinstance(user_x.id, int)\n",
    "except:\n",
    "    print(\"Not an integer\")\n"
   ]
  }
 ],
 "metadata": {
  "kernelspec": {
   "display_name": "env-jnb",
   "language": "python",
   "name": "python3"
  },
  "language_info": {
   "codemirror_mode": {
    "name": "ipython",
    "version": 3
   },
   "file_extension": ".py",
   "mimetype": "text/x-python",
   "name": "python",
   "nbconvert_exporter": "python",
   "pygments_lexer": "ipython3",
   "version": "3.11.0"
  },
  "orig_nbformat": 4
 },
 "nbformat": 4,
 "nbformat_minor": 2
}
