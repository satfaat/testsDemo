{
 "cells": [
  {
   "cell_type": "code",
   "execution_count": null,
   "metadata": {},
   "outputs": [],
   "source": [
    "import httpx\n",
    "import re\n",
    "import json"
   ]
  },
  {
   "cell_type": "code",
   "execution_count": null,
   "metadata": {},
   "outputs": [],
   "source": [
    "# authorization via bearer token\n",
    "token = 'some token'\n",
    "headers_auth = {'Authorization': f'Bearer {token}'}\n",
    "url_base = 'https://url_name/'"
   ]
  },
  {
   "attachments": {},
   "cell_type": "markdown",
   "metadata": {},
   "source": [
    "## Get"
   ]
  },
  {
   "cell_type": "code",
   "execution_count": null,
   "metadata": {},
   "outputs": [],
   "source": [
    "def get_info(auth):\n",
    "    url = f'{url_base}info'\n",
    "    res = httpx.get(url=url, verify=False, headers=auth)\n",
    "    return res\n",
    "\n",
    "get_info(headers_auth).url"
   ]
  },
  {
   "cell_type": "code",
   "execution_count": null,
   "metadata": {},
   "outputs": [],
   "source": [
    "get_info(headers_auth).status_code, \\\n",
    "get_info(headers_auth).json()"
   ]
  },
  {
   "cell_type": "code",
   "execution_count": null,
   "metadata": {},
   "outputs": [],
   "source": [
    "def get_info_params(auth):\n",
    "    params = {\n",
    "        \"page\": 1,  # int, if string > 400 INVALID_ARGUMENT\n",
    "        \"limit\": 2, # limit to records output, int\n",
    "        \"date_from\": \"2022-12-07\",  # date\n",
    "        \"date_to\": \"2022-12-07\",\n",
    "        \"status\": \"scoring_canceled\"  \n",
    "    }\n",
    "    url = f'{url_base}info-report'\n",
    "    res = httpx.get(url=url, verify=False, headers=auth, params=params)\n",
    "    return res\n",
    "\n",
    "get_info_params(headers_auth).url"
   ]
  },
  {
   "attachments": {},
   "cell_type": "markdown",
   "metadata": {},
   "source": [
    "## Post"
   ]
  },
  {
   "cell_type": "code",
   "execution_count": null,
   "metadata": {},
   "outputs": [],
   "source": []
  }
 ],
 "metadata": {
  "kernelspec": {
   "display_name": ".env-robot",
   "language": "python",
   "name": "python3"
  },
  "language_info": {
   "name": "python"
  },
  "orig_nbformat": 4,
  "vscode": {
   "interpreter": {
    "hash": "bedb0145f2c2d9c16e4dbd90db670cd6203a0f3880ec6c92c825ad23e5decfd0"
   }
  }
 },
 "nbformat": 4,
 "nbformat_minor": 2
}
