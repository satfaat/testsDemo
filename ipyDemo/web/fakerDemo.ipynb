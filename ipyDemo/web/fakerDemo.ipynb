{
 "cells": [
  {
   "cell_type": "code",
   "execution_count": 1,
   "metadata": {},
   "outputs": [],
   "source": [
    "from random import choice, randint\n",
    "from string import ascii_letters, digits"
   ]
  },
  {
   "cell_type": "code",
   "execution_count": 3,
   "metadata": {},
   "outputs": [
    {
     "data": {
      "text/plain": [
       "9"
      ]
     },
     "execution_count": 3,
     "metadata": {},
     "output_type": "execute_result"
    }
   ],
   "source": [
    "def random_number(start: int = 100, end: int = 1000) -> int:\n",
    "    return randint(start, end)\n",
    "\n",
    "random_number(5,10)"
   ]
  },
  {
   "cell_type": "code",
   "execution_count": 5,
   "metadata": {},
   "outputs": [
    {
     "data": {
      "text/plain": [
       "'DNG6Unqo7nQ2Y'"
      ]
     },
     "execution_count": 5,
     "metadata": {},
     "output_type": "execute_result"
    }
   ],
   "source": [
    "def random_string(start: int = 9, end: int = 15) -> str:\n",
    "    return ''.join(choice(ascii_letters + digits) for _ in range(randint(start, end)))\n",
    "\n",
    "random_string()"
   ]
  },
  {
   "cell_type": "code",
   "execution_count": 6,
   "metadata": {},
   "outputs": [
    {
     "data": {
      "text/plain": [
       "['XqPGwopvuOUWex',\n",
       " 'Glt1qgjlicWQcy',\n",
       " 'vjfzNDZYdyg',\n",
       " '45sT8JqNbh5',\n",
       " 'txZYtVe5MwIS',\n",
       " 'kT24xiKupreyI',\n",
       " '5vJeWYGH797uHe',\n",
       " 'x0YOwEfNO6rwJ',\n",
       " 'VdKpo2t89eTDvC',\n",
       " 'jeNjbRowdAhkP',\n",
       " 'DNKct7LCODi7M',\n",
       " 'FhtvkPd6uwN',\n",
       " 'PcLoasbj4vhG',\n",
       " '9AWokxdkp']"
      ]
     },
     "execution_count": 6,
     "metadata": {},
     "output_type": "execute_result"
    }
   ],
   "source": [
    "def random_list_of_strings(start: int = 9, end: int = 15) -> list[str]:\n",
    "    return [random_string() for _ in range(randint(start, end))]\n",
    "\n",
    "random_list_of_strings()"
   ]
  }
 ],
 "metadata": {
  "kernelspec": {
   "display_name": "env-jnb",
   "language": "python",
   "name": "python3"
  },
  "language_info": {
   "codemirror_mode": {
    "name": "ipython",
    "version": 3
   },
   "file_extension": ".py",
   "mimetype": "text/x-python",
   "name": "python",
   "nbconvert_exporter": "python",
   "pygments_lexer": "ipython3",
   "version": "3.11.0"
  },
  "orig_nbformat": 4
 },
 "nbformat": 4,
 "nbformat_minor": 2
}
